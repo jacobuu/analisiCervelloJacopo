{
 "cells": [
  {
   "cell_type": "code",
   "execution_count": 2,
   "id": "30ce0f37",
   "metadata": {},
   "outputs": [],
   "source": [
    "import joblib\n",
    "import numpy as np\n"
   ]
  },
  {
   "cell_type": "code",
   "execution_count": 36,
   "id": "4cf7e651",
   "metadata": {},
   "outputs": [
    {
     "name": "stdout",
     "output_type": "stream",
     "text": [
      "Sample shape: (1, 12, 206)\n"
     ]
    }
   ],
   "source": [
    "sample = np.zeros((1, 12, 206))\n",
    "\n",
    "print(\"Sample shape:\", sample.shape)"
   ]
  },
  {
   "cell_type": "code",
   "execution_count": 37,
   "id": "248f2686",
   "metadata": {},
   "outputs": [
    {
     "name": "stdout",
     "output_type": "stream",
     "text": [
      "Model loaded: Pipeline(steps=[('xdawn', XdawnCovariances(estimator='oas')),\n",
      "                ('ts', TangentSpace()), ('scaler', StandardScaler()),\n",
      "                ('ridge', RidgeClassifier(alpha=0.1))])\n",
      "Prediction: [0]\n"
     ]
    }
   ],
   "source": [
    "model = joblib.load(\"csp_lda_model.pkl\")\n",
    "print(\"Model loaded:\", model)\n",
    "\n",
    "# apply model to sample\n",
    "pred = model.predict(sample)\n",
    "print(\"Prediction:\", pred)\n"
   ]
  }
 ],
 "metadata": {
  "kernelspec": {
   "display_name": "Python 3",
   "language": "python",
   "name": "python3"
  },
  "language_info": {
   "codemirror_mode": {
    "name": "ipython",
    "version": 3
   },
   "file_extension": ".py",
   "mimetype": "text/x-python",
   "name": "python",
   "nbconvert_exporter": "python",
   "pygments_lexer": "ipython3",
   "version": "3.12.2"
  }
 },
 "nbformat": 4,
 "nbformat_minor": 5
}
